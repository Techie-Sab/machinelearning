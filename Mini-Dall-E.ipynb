{
 "cells": [
  {
   "cell_type": "markdown",
   "id": "7fc2c807",
   "metadata": {},
   "source": [
    "Mini-Dall E is a fast, minimal implementation of Boris Dayma's DALL·E Mega. It generates images based on the text passed as input"
   ]
  },
  {
   "cell_type": "code",
   "execution_count": null,
   "id": "ee8de258",
   "metadata": {},
   "outputs": [],
   "source": [
    "!pip install min-dalle"
   ]
  },
  {
   "cell_type": "markdown",
   "id": "94b61450",
   "metadata": {},
   "source": [
    "# Load Model"
   ]
  },
  {
   "cell_type": "code",
   "execution_count": null,
   "id": "0565768e",
   "metadata": {},
   "outputs": [],
   "source": [
    "from min_dalle import MinDalle\n",
    "\n",
    "model = MinDalle(is_mega=True, is_reusable=True)"
   ]
  },
  {
   "cell_type": "code",
   "execution_count": null,
   "id": "89825f89",
   "metadata": {},
   "outputs": [],
   "source": [
    "%%time\n",
    "\n",
    "text = \"Iron Man with Batman\" \n",
    "seed = 6  \n",
    "grid_size = 2  \n",
    "\n",
    "display(model.generate_image(text, seed, grid_size))"
   ]
  }
 ],
 "metadata": {
  "kernelspec": {
   "display_name": "Python 3 (ipykernel)",
   "language": "python",
   "name": "python3"
  },
  "language_info": {
   "codemirror_mode": {
    "name": "ipython",
    "version": 3
   },
   "file_extension": ".py",
   "mimetype": "text/x-python",
   "name": "python",
   "nbconvert_exporter": "python",
   "pygments_lexer": "ipython3",
   "version": "3.9.12"
  }
 },
 "nbformat": 4,
 "nbformat_minor": 5
}
